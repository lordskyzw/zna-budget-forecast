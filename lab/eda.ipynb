{
 "cells": [
  {
   "cell_type": "code",
   "execution_count": 19,
   "metadata": {},
   "outputs": [
    {
     "name": "stdout",
     "output_type": "stream",
     "text": [
      "Requirement already satisfied: pandas in /Users/lordskyzw/zna-budget-forecast/forecast/lib/python3.13/site-packages (from -r requirements.txt (line 1)) (2.2.3)\n",
      "Requirement already satisfied: numpy in /Users/lordskyzw/zna-budget-forecast/forecast/lib/python3.13/site-packages (from -r requirements.txt (line 2)) (2.1.3)\n",
      "Requirement already satisfied: openpyxl in /Users/lordskyzw/zna-budget-forecast/forecast/lib/python3.13/site-packages (from -r requirements.txt (line 3)) (3.1.5)\n",
      "Collecting xlsxwriter (from -r requirements.txt (line 4))\n",
      "  Downloading XlsxWriter-3.2.0-py3-none-any.whl.metadata (2.6 kB)\n",
      "Requirement already satisfied: python-dateutil>=2.8.2 in /Users/lordskyzw/zna-budget-forecast/forecast/lib/python3.13/site-packages (from pandas->-r requirements.txt (line 1)) (2.9.0.post0)\n",
      "Requirement already satisfied: pytz>=2020.1 in /Users/lordskyzw/zna-budget-forecast/forecast/lib/python3.13/site-packages (from pandas->-r requirements.txt (line 1)) (2024.2)\n",
      "Requirement already satisfied: tzdata>=2022.7 in /Users/lordskyzw/zna-budget-forecast/forecast/lib/python3.13/site-packages (from pandas->-r requirements.txt (line 1)) (2024.2)\n",
      "Requirement already satisfied: et-xmlfile in /Users/lordskyzw/zna-budget-forecast/forecast/lib/python3.13/site-packages (from openpyxl->-r requirements.txt (line 3)) (2.0.0)\n",
      "Requirement already satisfied: six>=1.5 in /Users/lordskyzw/zna-budget-forecast/forecast/lib/python3.13/site-packages (from python-dateutil>=2.8.2->pandas->-r requirements.txt (line 1)) (1.16.0)\n",
      "Downloading XlsxWriter-3.2.0-py3-none-any.whl (159 kB)\n",
      "Installing collected packages: xlsxwriter\n",
      "Successfully installed xlsxwriter-3.2.0\n",
      "\n",
      "\u001b[1m[\u001b[0m\u001b[34;49mnotice\u001b[0m\u001b[1;39;49m]\u001b[0m\u001b[39;49m A new release of pip is available: \u001b[0m\u001b[31;49m24.2\u001b[0m\u001b[39;49m -> \u001b[0m\u001b[32;49m24.3.1\u001b[0m\n",
      "\u001b[1m[\u001b[0m\u001b[34;49mnotice\u001b[0m\u001b[1;39;49m]\u001b[0m\u001b[39;49m To update, run: \u001b[0m\u001b[32;49mpip install --upgrade pip\u001b[0m\n",
      "Note: you may need to restart the kernel to use updated packages.\n"
     ]
    }
   ],
   "source": [
    "%pip install -r requirements.txt"
   ]
  },
  {
   "cell_type": "code",
   "execution_count": 9,
   "metadata": {},
   "outputs": [
    {
     "data": {
      "text/plain": [
       "['Main Bids 2018',\n",
       " 'Sheet1',\n",
       " 'GL 2200600002',\n",
       " 'GL 2201900002',\n",
       " 'GL 2202000002',\n",
       " 'GL 3112210001',\n",
       " 'GL 2200600003',\n",
       " 'GL 2202000004',\n",
       " ' HRMS (3112210001)']"
      ]
     },
     "execution_count": 9,
     "metadata": {},
     "output_type": "execute_result"
    }
   ],
   "source": [
    "import pandas as pd\n",
    "\n",
    "# Load the Excel file to check its structure\n",
    "file_path = 'IT DIRECTORATE BIDS  FOR 2023.xlsx'\n",
    "xls = pd.ExcelFile(file_path)\n",
    "\n",
    "# Display sheet names to understand its structure\n",
    "xls.sheet_names\n"
   ]
  },
  {
   "cell_type": "code",
   "execution_count": 10,
   "metadata": {},
   "outputs": [
    {
     "data": {
      "text/html": [
       "<div>\n",
       "<style scoped>\n",
       "    .dataframe tbody tr th:only-of-type {\n",
       "        vertical-align: middle;\n",
       "    }\n",
       "\n",
       "    .dataframe tbody tr th {\n",
       "        vertical-align: top;\n",
       "    }\n",
       "\n",
       "    .dataframe thead th {\n",
       "        text-align: right;\n",
       "    }\n",
       "</style>\n",
       "<table border=\"1\" class=\"dataframe\">\n",
       "  <thead>\n",
       "    <tr style=\"text-align: right;\">\n",
       "      <th></th>\n",
       "      <th>Unnamed: 0</th>\n",
       "      <th>Unnamed: 1</th>\n",
       "      <th>Unnamed: 2</th>\n",
       "      <th>Unnamed: 3</th>\n",
       "      <th>Unnamed: 4</th>\n",
       "      <th>Unnamed: 5</th>\n",
       "      <th>Unnamed: 6</th>\n",
       "      <th>Unnamed: 7</th>\n",
       "      <th>Unnamed: 8</th>\n",
       "    </tr>\n",
       "  </thead>\n",
       "  <tbody>\n",
       "    <tr>\n",
       "      <th>0</th>\n",
       "      <td>NaN</td>\n",
       "      <td>NaN</td>\n",
       "      <td>NaN</td>\n",
       "      <td>NaN</td>\n",
       "      <td>NaN</td>\n",
       "      <td>NaN</td>\n",
       "      <td>NaN</td>\n",
       "      <td>NaN</td>\n",
       "      <td>NaN</td>\n",
       "    </tr>\n",
       "    <tr>\n",
       "      <th>1</th>\n",
       "      <td>NaN</td>\n",
       "      <td>NaN</td>\n",
       "      <td>SUMMARY</td>\n",
       "      <td>NaN</td>\n",
       "      <td>NaN</td>\n",
       "      <td>ZWL</td>\n",
       "      <td>NaN</td>\n",
       "      <td>NaN</td>\n",
       "      <td>USD</td>\n",
       "    </tr>\n",
       "    <tr>\n",
       "      <th>2</th>\n",
       "      <td>1.0</td>\n",
       "      <td>NaN</td>\n",
       "      <td>GL ACC</td>\n",
       "      <td>2.200600e+09</td>\n",
       "      <td>Consumables</td>\n",
       "      <td>311083500</td>\n",
       "      <td>NaN</td>\n",
       "      <td>NaN</td>\n",
       "      <td>2222025</td>\n",
       "    </tr>\n",
       "    <tr>\n",
       "      <th>3</th>\n",
       "      <td>2.0</td>\n",
       "      <td>NaN</td>\n",
       "      <td>GL ACC</td>\n",
       "      <td>3.112210e+09</td>\n",
       "      <td>ICT Equipment</td>\n",
       "      <td>168230000</td>\n",
       "      <td>NaN</td>\n",
       "      <td>NaN</td>\n",
       "      <td>1201642.86</td>\n",
       "    </tr>\n",
       "    <tr>\n",
       "      <th>4</th>\n",
       "      <td>3.0</td>\n",
       "      <td>NaN</td>\n",
       "      <td>GL ACC</td>\n",
       "      <td>2.201900e+09</td>\n",
       "      <td>Part Technical equipment</td>\n",
       "      <td>22629200</td>\n",
       "      <td>NaN</td>\n",
       "      <td>NaN</td>\n",
       "      <td>163208.57</td>\n",
       "    </tr>\n",
       "  </tbody>\n",
       "</table>\n",
       "</div>"
      ],
      "text/plain": [
       "   Unnamed: 0  Unnamed: 1 Unnamed: 2    Unnamed: 3                Unnamed: 4  \\\n",
       "0         NaN         NaN        NaN           NaN                       NaN   \n",
       "1         NaN         NaN    SUMMARY           NaN                       NaN   \n",
       "2         1.0         NaN     GL ACC  2.200600e+09               Consumables   \n",
       "3         2.0         NaN     GL ACC  3.112210e+09             ICT Equipment   \n",
       "4         3.0         NaN     GL ACC  2.201900e+09  Part Technical equipment   \n",
       "\n",
       "  Unnamed: 5  Unnamed: 6  Unnamed: 7  Unnamed: 8  \n",
       "0        NaN         NaN         NaN         NaN  \n",
       "1        ZWL         NaN         NaN        USD   \n",
       "2  311083500         NaN         NaN     2222025  \n",
       "3  168230000         NaN         NaN  1201642.86  \n",
       "4   22629200         NaN         NaN   163208.57  "
      ]
     },
     "execution_count": 10,
     "metadata": {},
     "output_type": "execute_result"
    }
   ],
   "source": [
    "# Load data from Sheet1 to inspect its structure\n",
    "sheet1_data = pd.read_excel(file_path, sheet_name='Sheet1')\n",
    "\n",
    "# Display the first few rows to understand the data\n",
    "sheet1_data.head()\n"
   ]
  },
  {
   "cell_type": "code",
   "execution_count": 11,
   "metadata": {},
   "outputs": [
    {
     "data": {
      "text/html": [
       "<div>\n",
       "<style scoped>\n",
       "    .dataframe tbody tr th:only-of-type {\n",
       "        vertical-align: middle;\n",
       "    }\n",
       "\n",
       "    .dataframe tbody tr th {\n",
       "        vertical-align: top;\n",
       "    }\n",
       "\n",
       "    .dataframe thead th {\n",
       "        text-align: right;\n",
       "    }\n",
       "</style>\n",
       "<table border=\"1\" class=\"dataframe\">\n",
       "  <thead>\n",
       "    <tr style=\"text-align: right;\">\n",
       "      <th></th>\n",
       "      <th>SUMMARY</th>\n",
       "      <th>Unnamed: 3</th>\n",
       "      <th>Unnamed: 4</th>\n",
       "      <th>ZWL</th>\n",
       "      <th>USD</th>\n",
       "    </tr>\n",
       "  </thead>\n",
       "  <tbody>\n",
       "    <tr>\n",
       "      <th>0</th>\n",
       "      <td>GL ACC</td>\n",
       "      <td>2.200600e+09</td>\n",
       "      <td>Consumables</td>\n",
       "      <td>311083500.0</td>\n",
       "      <td>2222025.00</td>\n",
       "    </tr>\n",
       "    <tr>\n",
       "      <th>1</th>\n",
       "      <td>GL ACC</td>\n",
       "      <td>3.112210e+09</td>\n",
       "      <td>ICT Equipment</td>\n",
       "      <td>168230000.0</td>\n",
       "      <td>1201642.86</td>\n",
       "    </tr>\n",
       "    <tr>\n",
       "      <th>2</th>\n",
       "      <td>GL ACC</td>\n",
       "      <td>2.201900e+09</td>\n",
       "      <td>Part Technical equipment</td>\n",
       "      <td>22629200.0</td>\n",
       "      <td>163208.57</td>\n",
       "    </tr>\n",
       "    <tr>\n",
       "      <th>3</th>\n",
       "      <td>GL ACC</td>\n",
       "      <td>2.202000e+09</td>\n",
       "      <td>Technical Equipment Maintenance</td>\n",
       "      <td>30150000.0</td>\n",
       "      <td>215357.14</td>\n",
       "    </tr>\n",
       "    <tr>\n",
       "      <th>4</th>\n",
       "      <td>GL ACC</td>\n",
       "      <td>2.200600e+09</td>\n",
       "      <td>Renewal of Computer software</td>\n",
       "      <td>523046000.0</td>\n",
       "      <td>3736042.86</td>\n",
       "    </tr>\n",
       "  </tbody>\n",
       "</table>\n",
       "</div>"
      ],
      "text/plain": [
       "  SUMMARY    Unnamed: 3                       Unnamed: 4          ZWL  \\\n",
       "0  GL ACC  2.200600e+09                      Consumables  311083500.0   \n",
       "1  GL ACC  3.112210e+09                    ICT Equipment  168230000.0   \n",
       "2  GL ACC  2.201900e+09         Part Technical equipment   22629200.0   \n",
       "3  GL ACC  2.202000e+09  Technical Equipment Maintenance   30150000.0   \n",
       "4  GL ACC  2.200600e+09     Renewal of Computer software  523046000.0   \n",
       "\n",
       "         USD   \n",
       "0  2222025.00  \n",
       "1  1201642.86  \n",
       "2   163208.57  \n",
       "3   215357.14  \n",
       "4  3736042.86  "
      ]
     },
     "execution_count": 11,
     "metadata": {},
     "output_type": "execute_result"
    }
   ],
   "source": [
    "# Clean and preprocess the data by skipping initial irrelevant rows\n",
    "sheet1_cleaned = pd.read_excel(file_path, sheet_name='Sheet1', skiprows=2)\n",
    "\n",
    "# Inspect the cleaned data to identify numeric fields for variations\n",
    "sheet1_cleaned.drop(columns=['Unnamed: 0', 'Unnamed: 1', 'Unnamed: 6', 'Unnamed: 7'], inplace=True)\n",
    "sheet1_cleaned.head()\n"
   ]
  },
  {
   "cell_type": "code",
   "execution_count": 12,
   "metadata": {},
   "outputs": [
    {
     "data": {
      "text/plain": [
       "'Synthetic_Sheet1_Variations.xlsx'"
      ]
     },
     "execution_count": 12,
     "metadata": {},
     "output_type": "execute_result"
    }
   ],
   "source": [
    "import numpy as np\n",
    "\n",
    "# Define a function to generate synthetic variations\n",
    "def generate_variations(df, num_variations=30, columns_to_modify=None):\n",
    "    variations = []\n",
    "    for _ in range(num_variations):\n",
    "        variation = df.copy()\n",
    "        for col in columns_to_modify:\n",
    "            if col in df.columns:\n",
    "                variation[col] = df[col] * np.random.uniform(0.8, 1.2, size=len(df))\n",
    "        variations.append(variation)\n",
    "    return variations\n",
    "\n",
    "# Columns to apply variations on\n",
    "columns_to_modify = ['ZWL', 'USD ']\n",
    "\n",
    "# Generate 120 variations of the dataset\n",
    "variations = generate_variations(sheet1_cleaned, num_variations=120, columns_to_modify=columns_to_modify)\n",
    "\n",
    "# Save all variations to a new Excel file\n",
    "output_file_path = 'Synthetic_Sheet1_Variations.xlsx'\n",
    "with pd.ExcelWriter(output_file_path, engine='xlsxwriter') as writer:\n",
    "    for i, variation in enumerate(variations):\n",
    "        variation.to_excel(writer, sheet_name=f'Variation_{i+1}', index=False)\n",
    "\n",
    "output_file_path\n"
   ]
  },
  {
   "cell_type": "code",
   "execution_count": 14,
   "metadata": {},
   "outputs": [
    {
     "name": "stdout",
     "output_type": "stream",
     "text": [
      "Transformation complete. Data saved to 'transformed_time_series_data.csv'.\n"
     ]
    }
   ],
   "source": [
    "import pandas as pd\n",
    "\n",
    "# Load the workbook\n",
    "file_path = 'Synthetic_Sheet1_Variations.xlsx'\n",
    "xls = pd.ExcelFile(file_path)\n",
    "\n",
    "# Initialize an empty list to hold the DataFrames\n",
    "dfs = []\n",
    "\n",
    "# Iterate through each sheet and append the data to the list\n",
    "for sheet_name in xls.sheet_names:\n",
    "    sheet_df = pd.read_excel(xls, sheet_name=sheet_name)\n",
    "    \n",
    "    # Extract the integer x from the sheet name\n",
    "    x = int(sheet_name.split('_')[1])\n",
    "    \n",
    "    # Calculate the year based on x\n",
    "    year = 1995 + (x - 1)\n",
    "    \n",
    "    # Create a date range for the entire year\n",
    "    date_range = pd.date_range(start=f'{year}-01-01', end=f'{year}-12-31', freq='D')\n",
    "    \n",
    "    # Assign dates to the rows in the sheet\n",
    "    sheet_df['Date'] = date_range[:len(sheet_df)]\n",
    "    \n",
    "    # Append the DataFrame to the list\n",
    "    dfs.append(sheet_df)\n",
    "\n",
    "# Concatenate all DataFrames in the list\n",
    "combined_df = pd.concat(dfs, ignore_index=True)\n",
    "\n",
    "# Sort the DataFrame by date\n",
    "combined_df = combined_df.sort_values(by='Date')\n",
    "\n",
    "# Save the transformed data to a new file\n",
    "combined_df.to_csv('transformed_time_series_data.csv', index=False)\n",
    "\n",
    "print(\"Transformation complete. Data saved to 'transformed_time_series_data.csv'.\")"
   ]
  },
  {
   "cell_type": "code",
   "execution_count": 16,
   "metadata": {},
   "outputs": [
    {
     "name": "stdout",
     "output_type": "stream",
     "text": [
      "Time series data frames created and saved.\n"
     ]
    }
   ],
   "source": [
    "import pandas as pd\n",
    "\n",
    "# Load the transformed time series data\n",
    "file_path = 'transformed_time_series_data.csv'\n",
    "df = pd.read_csv(file_path)\n",
    "\n",
    "# List of IDs to filter\n",
    "ids_to_filter = [\n",
    "    2200600002.0, 3112210001.0, 2201900002.0, \n",
    "    2202000002.0, 2200600003.0, 2202000004.0\n",
    "]\n",
    "\n",
    "# Filter the DataFrame for each ID and save to a separate CSV file\n",
    "for id_value in ids_to_filter:\n",
    "    filtered_df = df[df['Unnamed: 3'] == id_value]\n",
    "    filtered_df.to_csv(f'time_series_{int(id_value)}.csv', index=False)\n",
    "\n",
    "print(\"Time series data frames created and saved.\")"
   ]
  }
 ],
 "metadata": {
  "kernelspec": {
   "display_name": "forecast",
   "language": "python",
   "name": "python3"
  },
  "language_info": {
   "codemirror_mode": {
    "name": "ipython",
    "version": 3
   },
   "file_extension": ".py",
   "mimetype": "text/x-python",
   "name": "python",
   "nbconvert_exporter": "python",
   "pygments_lexer": "ipython3",
   "version": "3.13.0"
  }
 },
 "nbformat": 4,
 "nbformat_minor": 2
}
